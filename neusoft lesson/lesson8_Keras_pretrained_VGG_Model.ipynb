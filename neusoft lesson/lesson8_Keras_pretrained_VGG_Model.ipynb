{
 "cells": [
  {
   "cell_type": "markdown",
   "metadata": {},
   "source": [
    "## 本代码意在利用VGG19来进行迁移学习训练"
   ]
  },
  {
   "cell_type": "code",
   "execution_count": 1,
   "metadata": {},
   "outputs": [
    {
     "name": "stderr",
     "output_type": "stream",
     "text": [
      "Using TensorFlow backend.\n"
     ]
    }
   ],
   "source": [
    "# -*- coding=utf-8 -*-\n",
    "import numpy as np\n",
    "import keras\n",
    "from keras.models import Sequential\n",
    "from keras.layers import Dense,Flatten,Dropout\n",
    "from keras.optimizers import Adadelta\n",
    "from keras.datasets import cifar10\n",
    "from keras import applications"
   ]
  },
  {
   "cell_type": "code",
   "execution_count": 3,
   "metadata": {},
   "outputs": [
    {
     "name": "stdout",
     "output_type": "stream",
     "text": [
      "_________________________________________________________________\n",
      "Layer (type)                 Output Shape              Param #   \n",
      "=================================================================\n",
      "input_2 (InputLayer)         (None, None, None, 3)     0         \n",
      "_________________________________________________________________\n",
      "block1_conv1 (Conv2D)        (None, None, None, 64)    1792      \n",
      "_________________________________________________________________\n",
      "block1_conv2 (Conv2D)        (None, None, None, 64)    36928     \n",
      "_________________________________________________________________\n",
      "block1_pool (MaxPooling2D)   (None, None, None, 64)    0         \n",
      "_________________________________________________________________\n",
      "block2_conv1 (Conv2D)        (None, None, None, 128)   73856     \n",
      "_________________________________________________________________\n",
      "block2_conv2 (Conv2D)        (None, None, None, 128)   147584    \n",
      "_________________________________________________________________\n",
      "block2_pool (MaxPooling2D)   (None, None, None, 128)   0         \n",
      "_________________________________________________________________\n",
      "block3_conv1 (Conv2D)        (None, None, None, 256)   295168    \n",
      "_________________________________________________________________\n",
      "block3_conv2 (Conv2D)        (None, None, None, 256)   590080    \n",
      "_________________________________________________________________\n",
      "block3_conv3 (Conv2D)        (None, None, None, 256)   590080    \n",
      "_________________________________________________________________\n",
      "block3_conv4 (Conv2D)        (None, None, None, 256)   590080    \n",
      "_________________________________________________________________\n",
      "block3_pool (MaxPooling2D)   (None, None, None, 256)   0         \n",
      "_________________________________________________________________\n",
      "block4_conv1 (Conv2D)        (None, None, None, 512)   1180160   \n",
      "_________________________________________________________________\n",
      "block4_conv2 (Conv2D)        (None, None, None, 512)   2359808   \n",
      "_________________________________________________________________\n",
      "block4_conv3 (Conv2D)        (None, None, None, 512)   2359808   \n",
      "_________________________________________________________________\n",
      "block4_conv4 (Conv2D)        (None, None, None, 512)   2359808   \n",
      "_________________________________________________________________\n",
      "block4_pool (MaxPooling2D)   (None, None, None, 512)   0         \n",
      "_________________________________________________________________\n",
      "block5_conv1 (Conv2D)        (None, None, None, 512)   2359808   \n",
      "_________________________________________________________________\n",
      "block5_conv2 (Conv2D)        (None, None, None, 512)   2359808   \n",
      "_________________________________________________________________\n",
      "block5_conv3 (Conv2D)        (None, None, None, 512)   2359808   \n",
      "_________________________________________________________________\n",
      "block5_conv4 (Conv2D)        (None, None, None, 512)   2359808   \n",
      "_________________________________________________________________\n",
      "block5_pool (MaxPooling2D)   (None, None, None, 512)   0         \n",
      "=================================================================\n",
      "Total params: 20,024,384\n",
      "Trainable params: 20,024,384\n",
      "Non-trainable params: 0\n",
      "_________________________________________________________________\n"
     ]
    }
   ],
   "source": [
    "import matplotlib.pyplot as plt\n",
    "%matplotlib inline\n",
    "\n",
    "vgg_model=applications.VGG19(include_top=False,weights='imagenet')\n",
    "vgg_model.summary()"
   ]
  },
  {
   "cell_type": "code",
   "execution_count": 4,
   "metadata": {},
   "outputs": [
    {
     "name": "stdout",
     "output_type": "stream",
     "text": [
      "(50000, 32, 32, 3) (50000, 1) (10000, 32, 32, 3) (10000, 1)\n"
     ]
    }
   ],
   "source": [
    "(train_x,train_y),(test_x,test_y)=cifar10.load_data()\n",
    "print(train_x.shape,train_y.shape,test_x.shape,test_y.shape)"
   ]
  },
  {
   "cell_type": "markdown",
   "metadata": {},
   "source": [
    "## 训练目标转换为one-hot编码"
   ]
  },
  {
   "cell_type": "code",
   "execution_count": 6,
   "metadata": {},
   "outputs": [],
   "source": [
    "n_classes=10\n",
    "train_y=keras.utils.to_categorical(train_y,n_classes)\n",
    "test_y=keras.utils.to_categorical(test_y,n_classes)"
   ]
  },
  {
   "cell_type": "markdown",
   "metadata": {},
   "source": [
    "## bottleneck_feature"
   ]
  },
  {
   "cell_type": "code",
   "execution_count": 7,
   "metadata": {},
   "outputs": [
    {
     "name": "stdout",
     "output_type": "stream",
     "text": [
      "50000/50000 [==============================] - 717s 14ms/step\n",
      "10000/10000 [==============================] - 142s 14ms/step\n"
     ]
    }
   ],
   "source": [
    "bottleneck_feature_train=vgg_model.predict(train_x,verbose=1)\n",
    "bottleneck_feature_test=vgg_model.predict(test_x,verbose=1)"
   ]
  },
  {
   "cell_type": "code",
   "execution_count": 8,
   "metadata": {},
   "outputs": [
    {
     "name": "stdout",
     "output_type": "stream",
     "text": [
      "(50000, 1, 1, 512) (10000, 1, 1, 512)\n"
     ]
    }
   ],
   "source": [
    "print(bottleneck_feature_train.shape,bottleneck_feature_test.shape)"
   ]
  },
  {
   "cell_type": "code",
   "execution_count": 12,
   "metadata": {},
   "outputs": [
    {
     "name": "stdout",
     "output_type": "stream",
     "text": [
      "Epoch 1/50\n",
      "50000/50000 [==============================] - 6s 127us/step - loss: 4.3122 - acc: 0.2744\n",
      "Epoch 2/50\n",
      "50000/50000 [==============================] - 6s 124us/step - loss: 1.7972 - acc: 0.3813\n",
      "Epoch 3/50\n",
      "50000/50000 [==============================] - 6s 128us/step - loss: 1.6263 - acc: 0.4389\n",
      "Epoch 4/50\n",
      "50000/50000 [==============================] - 7s 130us/step - loss: 1.5304 - acc: 0.4728\n",
      "Epoch 5/50\n",
      "50000/50000 [==============================] - 7s 134us/step - loss: 1.4762 - acc: 0.4984\n",
      "Epoch 6/50\n",
      "50000/50000 [==============================] - 7s 132us/step - loss: 1.4208 - acc: 0.5146\n",
      "Epoch 7/50\n",
      "50000/50000 [==============================] - 7s 130us/step - loss: 1.3842 - acc: 0.5328\n",
      "Epoch 8/50\n",
      "50000/50000 [==============================] - 6s 129us/step - loss: 1.3577 - acc: 0.5427\n",
      "Epoch 9/50\n",
      "50000/50000 [==============================] - 7s 131us/step - loss: 1.3217 - acc: 0.5531\n",
      "Epoch 10/50\n",
      "50000/50000 [==============================] - 7s 131us/step - loss: 1.2988 - acc: 0.5636\n",
      "Epoch 11/50\n",
      "50000/50000 [==============================] - 7s 135us/step - loss: 1.2841 - acc: 0.5715\n",
      "Epoch 12/50\n",
      "50000/50000 [==============================] - 7s 138us/step - loss: 1.2647 - acc: 0.5763\n",
      "Epoch 13/50\n",
      "50000/50000 [==============================] - 7s 131us/step - loss: 1.2357 - acc: 0.5867\n",
      "Epoch 14/50\n",
      "50000/50000 [==============================] - 7s 135us/step - loss: 1.2161 - acc: 0.5929\n",
      "Epoch 15/50\n",
      "50000/50000 [==============================] - 7s 131us/step - loss: 1.2112 - acc: 0.5950\n",
      "Epoch 16/50\n",
      "50000/50000 [==============================] - 7s 133us/step - loss: 1.1881 - acc: 0.6013\n",
      "Epoch 17/50\n",
      "50000/50000 [==============================] - 7s 138us/step - loss: 1.1747 - acc: 0.6041\n",
      "Epoch 18/50\n",
      "50000/50000 [==============================] - 7s 136us/step - loss: 1.1643 - acc: 0.6099\n",
      "Epoch 19/50\n",
      "50000/50000 [==============================] - 8s 151us/step - loss: 1.1517 - acc: 0.6149\n",
      "Epoch 20/50\n",
      "50000/50000 [==============================] - 7s 146us/step - loss: 1.1375 - acc: 0.6186\n",
      "Epoch 21/50\n",
      "50000/50000 [==============================] - 6s 126us/step - loss: 1.1298 - acc: 0.6210\n",
      "Epoch 22/50\n",
      "50000/50000 [==============================] - 6s 122us/step - loss: 1.1205 - acc: 0.6246\n",
      "Epoch 23/50\n",
      "50000/50000 [==============================] - 6s 115us/step - loss: 1.1026 - acc: 0.6302\n",
      "Epoch 24/50\n",
      "50000/50000 [==============================] - 6s 115us/step - loss: 1.0898 - acc: 0.6370\n",
      "Epoch 25/50\n",
      "50000/50000 [==============================] - 6s 123us/step - loss: 1.0821 - acc: 0.6414\n",
      "Epoch 26/50\n",
      "50000/50000 [==============================] - 6s 117us/step - loss: 1.0657 - acc: 0.6439\n",
      "Epoch 27/50\n",
      "50000/50000 [==============================] - 6s 115us/step - loss: 1.0630 - acc: 0.6462\n",
      "Epoch 28/50\n",
      "50000/50000 [==============================] - 6s 122us/step - loss: 1.0489 - acc: 0.6494\n",
      "Epoch 29/50\n",
      "50000/50000 [==============================] - 7s 132us/step - loss: 1.0397 - acc: 0.6515\n",
      "Epoch 30/50\n",
      "50000/50000 [==============================] - 7s 138us/step - loss: 1.0339 - acc: 0.6541\n",
      "Epoch 31/50\n",
      "50000/50000 [==============================] - 7s 139us/step - loss: 1.0239 - acc: 0.6577\n",
      "Epoch 32/50\n",
      "50000/50000 [==============================] - 7s 137us/step - loss: 1.0170 - acc: 0.6615\n",
      "Epoch 33/50\n",
      "50000/50000 [==============================] - 7s 134us/step - loss: 1.0112 - acc: 0.6621\n",
      "Epoch 34/50\n",
      "50000/50000 [==============================] - 7s 132us/step - loss: 1.0038 - acc: 0.6651\n",
      "Epoch 35/50\n",
      "50000/50000 [==============================] - 7s 139us/step - loss: 0.9952 - acc: 0.6670\n",
      "Epoch 36/50\n",
      "50000/50000 [==============================] - 7s 146us/step - loss: 0.9904 - acc: 0.6713\n",
      "Epoch 37/50\n",
      "50000/50000 [==============================] - 7s 130us/step - loss: 0.9738 - acc: 0.6768\n",
      "Epoch 38/50\n",
      "50000/50000 [==============================] - 8s 153us/step - loss: 0.9736 - acc: 0.6773\n",
      "Epoch 39/50\n",
      "50000/50000 [==============================] - 7s 138us/step - loss: 0.9659 - acc: 0.6803\n",
      "Epoch 40/50\n",
      "50000/50000 [==============================] - 9s 172us/step - loss: 0.9610 - acc: 0.6787\n",
      "Epoch 41/50\n",
      "50000/50000 [==============================] - 8s 168us/step - loss: 0.9490 - acc: 0.6829\n",
      "Epoch 42/50\n",
      "50000/50000 [==============================] - 8s 158us/step - loss: 0.9548 - acc: 0.6825\n",
      "Epoch 43/50\n",
      "50000/50000 [==============================] - 7s 147us/step - loss: 0.9410 - acc: 0.6871\n",
      "Epoch 44/50\n",
      "50000/50000 [==============================] - 7s 148us/step - loss: 0.9313 - acc: 0.6880\n",
      "Epoch 45/50\n",
      "50000/50000 [==============================] - 7s 139us/step - loss: 0.9252 - acc: 0.6904\n",
      "Epoch 46/50\n",
      "50000/50000 [==============================] - 7s 136us/step - loss: 0.9245 - acc: 0.6932\n",
      "Epoch 47/50\n",
      "50000/50000 [==============================] - 7s 134us/step - loss: 0.9131 - acc: 0.6957\n",
      "Epoch 48/50\n",
      "50000/50000 [==============================] - 7s 137us/step - loss: 0.9083 - acc: 0.6998\n",
      "Epoch 49/50\n",
      "50000/50000 [==============================] - 7s 140us/step - loss: 0.9044 - acc: 0.7001\n",
      "Epoch 50/50\n",
      "50000/50000 [==============================] - 7s 138us/step - loss: 0.9004 - acc: 0.7010\n"
     ]
    },
    {
     "data": {
      "text/plain": [
       "<keras.callbacks.History at 0x1b302923b70>"
      ]
     },
     "execution_count": 12,
     "metadata": {},
     "output_type": "execute_result"
    }
   ],
   "source": [
    "my_model=Sequential()\n",
    "my_model.add(Flatten())###my_model.add(Flatten(input_shape=?))\n",
    "my_model.add(Dense(512,activation='relu'))\n",
    "my_model.add(Dropout(0.5))\n",
    "my_model.add(Dense(256,activation='relu'))\n",
    "my_model.add(Dropout(0.5))\n",
    "my_model.add(Dense(n_classes,activation='softmax'))\n",
    "my_model.compile(optimizer=Adadelta(),loss=\"categorical_crossentropy\",\\\n",
    "                metrics=['accuracy'])\n",
    "my_model.fit(bottleneck_feature_train,train_y,batch_size=128,epochs=50,verbose=1)"
   ]
  },
  {
   "cell_type": "code",
   "execution_count": 17,
   "metadata": {},
   "outputs": [
    {
     "name": "stdout",
     "output_type": "stream",
     "text": [
      "loss: 1.3527788297653198 accuracy: 0.6257\n"
     ]
    }
   ],
   "source": [
    "evaluation=my_model.evaluate(bottleneck_feature_test,test_y,batch_size=128,verbose=0)\n",
    "print(\"loss:\",evaluation[0],\"accuracy:\",evaluation[1])"
   ]
  },
  {
   "cell_type": "code",
   "execution_count": 35,
   "metadata": {},
   "outputs": [],
   "source": [
    "def predict_label(img_idx,show_proba=True):\n",
    "    plt.imshow(train_x[img_idx],aspect='auto')\n",
    "    plt.title(\"Image to be labeled\")\n",
    "    plt.show()\n",
    "    img_4D=(bottleneck_feature_train[img_idx])[np.newaxis,:,:,:]\n",
    "    prediction=my_model.predict_classes(img_4D,batch_size=1,verbose=0)\n",
    "    print(\"Actual class:{0}\\nPredict class:{1}\".format(np.argmax(train_y[img_idx],0),prediction))\n",
    "    \n",
    "    if show_proba:\n",
    "        pred=my_model.predict_proba(img_4D,batch_size=1,verbose=0)\n",
    "        print(pred)"
   ]
  },
  {
   "cell_type": "code",
   "execution_count": 36,
   "metadata": {},
   "outputs": [
    {
     "data": {
      "image/png": "[encoded data removed]",
      "text/plain": [
       "<matplotlib.figure.Figure at 0x1b37b935a20>"
      ]
     },
     "metadata": {},
     "output_type": "display_data"
    },
    {
     "name": "stdout",
     "output_type": "stream",
     "text": [
      "Actual class:6\n",
      "Predict class:[6]\n",
      "[[1.8340637e-05 1.1488760e-04 1.8745687e-02 4.8809566e-02 1.5615180e-02\n",
      "  5.1468287e-02 8.6499536e-01 1.4321630e-04 6.2921521e-05 2.6633505e-05]]\n"
     ]
    },
    {
     "data": {
      "image/png": "[encoded data removed]",
      "text/plain": [
       "<matplotlib.figure.Figure at 0x1b305c174e0>"
      ]
     },
     "metadata": {},
     "output_type": "display_data"
    },
    {
     "name": "stdout",
     "output_type": "stream",
     "text": [
      "Actual class:9\n",
      "Predict class:[9]\n",
      "[[1.8463162e-08 2.3665652e-04 2.0290222e-13 5.5077754e-07 1.6875060e-11\n",
      "  2.3355731e-09 9.8716616e-15 1.5281476e-07 7.2140537e-08 9.9976259e-01]]\n"
     ]
    },
    {
     "data": {
      "image/png": "[encoded data removed]",
      "text/plain": [
       "<matplotlib.figure.Figure at 0x1b305c842b0>"
      ]
     },
     "metadata": {},
     "output_type": "display_data"
    },
    {
     "name": "stdout",
     "output_type": "stream",
     "text": [
      "Actual class:9\n",
      "Predict class:[9]\n",
      "[[7.2271213e-02 5.3234766e-03 1.1195098e-05 5.4116783e-05 1.2791016e-04\n",
      "  4.9549631e-06 4.8354312e-09 3.1195460e-03 6.9525046e-03 9.1213506e-01]]\n"
     ]
    }
   ],
   "source": [
    "for i in range(3):\n",
    "    predict_label(i,show_proba=True)"
   ]
  },
  {
   "cell_type": "code",
   "execution_count": null,
   "metadata": {},
   "outputs": [],
   "source": []
  }
 ],
 "metadata": {
  "kernelspec": {
   "display_name": "Python 3",
   "language": "python",
   "name": "python3"
  },
  "language_info": {
   "codemirror_mode": {
    "name": "ipython",
    "version": 3
   },
   "file_extension": ".py",
   "mimetype": "text/x-python",
   "name": "python",
   "nbconvert_exporter": "python",
   "pygments_lexer": "ipython3",
   "version": "3.6.5"
  }
 },
 "nbformat": 4,
 "nbformat_minor": 2
}
