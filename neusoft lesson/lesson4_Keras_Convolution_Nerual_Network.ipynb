{
 "cells": [
  {
   "cell_type": "markdown",
   "metadata": {},
   "source": [
    "#### 先玩个小游戏\n",
    "https://transcranial.github.io/keras-js/#/densenet121\n",
    "\n",
    "![CNN](./xxq/6.png)"
   ]
  },
  {
   "cell_type": "code",
   "execution_count": 2,
   "metadata": {},
   "outputs": [
    {
     "name": "stdout",
     "output_type": "stream",
     "text": [
      "Extracting ./MNIST_data\\train-images-idx3-ubyte.gz\n",
      "Extracting ./MNIST_data\\train-labels-idx1-ubyte.gz\n",
      "Extracting ./MNIST_data\\t10k-images-idx3-ubyte.gz\n",
      "Extracting ./MNIST_data\\t10k-labels-idx1-ubyte.gz\n"
     ]
    }
   ],
   "source": [
    "# -*-coding:utf-8 -*-\n",
    "###required libararies\n",
    "import numpy as np\n",
    "import tensorflow as tf\n",
    "from tensorflow.examples.tutorials.mnist import input_data\n",
    "\n",
    "mnist=input_data.read_data_sets(\"./MNIST_data\",one_hot=False)\n",
    "train_X,train_Y,test_X,test_Y=mnist.train.images,mnist.train.labels,mnist.test.images,\\\n",
    "mnist.test.labels"
   ]
  },
  {
   "cell_type": "code",
   "execution_count": 3,
   "metadata": {},
   "outputs": [
    {
     "name": "stdout",
     "output_type": "stream",
     "text": [
      "2 5\n"
     ]
    }
   ],
   "source": [
    "print(test_Y[1],test_Y[59])#change to one_hot coding "
   ]
  },
  {
   "cell_type": "code",
   "execution_count": 4,
   "metadata": {},
   "outputs": [],
   "source": [
    "import keras\n",
    "from keras.models import Sequential\n",
    "from keras.layers import Dense,Activation,Flatten,Dropout,Convolution2D,MaxPooling2D\n",
    "from keras.utils import np_utils\n",
    "from keras.optimizers import RMSprop\n",
    "nb_classes=10\n",
    "#drop_prob=0.5\n",
    "batch_size=128\n",
    "####因为是卷积神经网络，输入数据的格式是图像格式，所以要进行reshape\n",
    "train_x=np.reshape(train_X,(train_X.shape[0],28,28,1))\n",
    "test_x=np.reshape(test_X,(test_X.shape[0],28,28,1))\n",
    "train_y=np_utils.to_categorical(train_Y,nb_classes)\n",
    "test_y=np_utils.to_categorical(test_Y,nb_classes)"
   ]
  },
  {
   "cell_type": "code",
   "execution_count": 5,
   "metadata": {},
   "outputs": [
    {
     "name": "stdout",
     "output_type": "stream",
     "text": [
      "(55000, 10) \n",
      " (10000, 10)\n"
     ]
    }
   ],
   "source": [
    "print(train_y.shape,'\\n',test_y.shape)"
   ]
  },
  {
   "cell_type": "code",
   "execution_count": 6,
   "metadata": {},
   "outputs": [
    {
     "name": "stdout",
     "output_type": "stream",
     "text": [
      "(55000, 28, 28, 1) \n",
      " (10000, 28, 28, 1)\n"
     ]
    }
   ],
   "source": [
    "print(train_x.shape,'\\n',test_x.shape)"
   ]
  },
  {
   "cell_type": "code",
   "execution_count": 34,
   "metadata": {},
   "outputs": [
    {
     "data": {
      "text/plain": [
       "(55000, 28, 28)"
      ]
     },
     "execution_count": 34,
     "metadata": {},
     "output_type": "execute_result"
    }
   ],
   "source": [
    "train_x[:,:,:,0].shape"
   ]
  },
  {
   "cell_type": "code",
   "execution_count": 74,
   "metadata": {},
   "outputs": [
    {
     "name": "stdout",
     "output_type": "stream",
     "text": [
      "7\n",
      "3\n",
      "4\n",
      "6\n",
      "1\n",
      "8\n",
      "1\n",
      "0\n",
      "9\n",
      "8\n"
     ]
    },
    {
     "data": {
      "image/png": "[encoded data removed]",
      "text/plain": [
       "<matplotlib.figure.Figure at 0x1db09e4b860>"
      ]
     },
     "metadata": {},
     "output_type": "display_data"
    }
   ],
   "source": [
    "###reshape后的数据显示\n",
    "import matplotlib.pyplot as plt\n",
    "%matplotlib inline\n",
    "f,a=plt.subplots(1,10,figsize=(10,5))\n",
    "for i in range(10):\n",
    "    a[i].imshow(train_x[i,:,:,0],cmap='gray')\n",
    "    print(train_Y[i])\n",
    "    "
   ]
  },
  {
   "cell_type": "code",
   "execution_count": 41,
   "metadata": {},
   "outputs": [],
   "source": [
    "?Convolution2D\n",
    "###Convolution2D(filters, kernel_size, strides=(1, 1),padding='valid',activation=None)"
   ]
  },
  {
   "cell_type": "code",
   "execution_count": 42,
   "metadata": {},
   "outputs": [],
   "source": [
    "####establish a convolution nerual network\n",
    "model=Sequential()\n",
    "\n",
    "####Convolution layer 1\n",
    "model.add(Convolution2D(filters=32,kernel_size=(3,3),input_shape=(28,28,1),strides=(1,1),\\\n",
    "                        padding='same',activation='relu'))"
   ]
  },
  {
   "cell_type": "code",
   "execution_count": 43,
   "metadata": {},
   "outputs": [],
   "source": [
    "?MaxPooling2D\n",
    "#MaxPooling2D(pool_size=(2, 2), strides=None, padding='valid')"
   ]
  },
  {
   "cell_type": "code",
   "execution_count": 44,
   "metadata": {},
   "outputs": [],
   "source": [
    "#####pooling layer with dropout\n",
    "model.add(MaxPooling2D(pool_size=(2,2), strides=(2,2), padding='valid'))\n",
    "model.add(Dropout(0.2))"
   ]
  },
  {
   "cell_type": "code",
   "execution_count": 45,
   "metadata": {},
   "outputs": [],
   "source": [
    "####Convolution layer 2\n",
    "model.add(Convolution2D(filters=64,kernel_size=(3,3),strides=(1,1),padding='same',\\\n",
    "                              activation='relu'))\n",
    "model.add(MaxPooling2D(pool_size=(2,2), strides=(2,2), padding='valid'))\n",
    "model.add(Dropout(0.2))\n",
    "\n",
    "####Convolution layer 3\n",
    "model.add(Convolution2D(filters=128,kernel_size=(3,3),strides=(1,1),padding='same',\\\n",
    "                              activation='relu'))\n",
    "model.add(MaxPooling2D(pool_size=(2,2), strides=(2,2), padding='valid'))\n",
    "model.add(Flatten())###理解扁平化\n",
    "model.add(Dropout(0.2))\n",
    "\n",
    "#model.add(Flatten())?"
   ]
  },
  {
   "cell_type": "code",
   "execution_count": 13,
   "metadata": {},
   "outputs": [],
   "source": [
    "?Flatten"
   ]
  },
  {
   "cell_type": "code",
   "execution_count": 46,
   "metadata": {},
   "outputs": [
    {
     "name": "stdout",
     "output_type": "stream",
     "text": [
      "_________________________________________________________________\n",
      "Layer (type)                 Output Shape              Param #   \n",
      "=================================================================\n",
      "conv2d_1 (Conv2D)            (None, 28, 28, 32)        320       \n",
      "_________________________________________________________________\n",
      "max_pooling2d_1 (MaxPooling2 (None, 14, 14, 32)        0         \n",
      "_________________________________________________________________\n",
      "dropout_1 (Dropout)          (None, 14, 14, 32)        0         \n",
      "_________________________________________________________________\n",
      "conv2d_2 (Conv2D)            (None, 14, 14, 64)        18496     \n",
      "_________________________________________________________________\n",
      "max_pooling2d_2 (MaxPooling2 (None, 7, 7, 64)          0         \n",
      "_________________________________________________________________\n",
      "dropout_2 (Dropout)          (None, 7, 7, 64)          0         \n",
      "_________________________________________________________________\n",
      "conv2d_3 (Conv2D)            (None, 7, 7, 128)         73856     \n",
      "_________________________________________________________________\n",
      "max_pooling2d_3 (MaxPooling2 (None, 3, 3, 128)         0         \n",
      "_________________________________________________________________\n",
      "flatten_1 (Flatten)          (None, 1152)              0         \n",
      "_________________________________________________________________\n",
      "dropout_3 (Dropout)          (None, 1152)              0         \n",
      "_________________________________________________________________\n",
      "dense_1 (Dense)              (None, 625)               720625    \n",
      "_________________________________________________________________\n",
      "dropout_4 (Dropout)          (None, 625)               0         \n",
      "_________________________________________________________________\n",
      "dense_2 (Dense)              (None, 10)                6260      \n",
      "=================================================================\n",
      "Total params: 819,557\n",
      "Trainable params: 819,557\n",
      "Non-trainable params: 0\n",
      "_________________________________________________________________\n"
     ]
    },
    {
     "name": "stderr",
     "output_type": "stream",
     "text": [
      "e:\\python\\lib\\site-packages\\ipykernel_launcher.py:2: UserWarning: Update your `Dense` call to the Keras 2 API: `Dense(activation=\"relu\", units=625)`\n",
      "  \n",
      "e:\\python\\lib\\site-packages\\ipykernel_launcher.py:6: UserWarning: Update your `Dense` call to the Keras 2 API: `Dense(activation=\"softmax\", units=10)`\n",
      "  \n"
     ]
    }
   ],
   "source": [
    "####fully connected layer 1 (fc layer)\n",
    "model.add(Dense(output_dim=625,activation='relu'))\n",
    "model.add(Dropout(0.5))\n",
    "\n",
    "####fully connected layer 2 (fc layer)\n",
    "model.add(Dense(output_dim=10,activation='softmax'))\n",
    "model.summary()"
   ]
  },
  {
   "cell_type": "markdown",
   "metadata": {},
   "source": [
    "### 从上面的model.summary可见卷积神经网络的参数数目巨大！一个简单的MNIST识别就有81万多的参数个数"
   ]
  },
  {
   "cell_type": "code",
   "execution_count": 47,
   "metadata": {},
   "outputs": [
    {
     "name": "stdout",
     "output_type": "stream",
     "text": [
      "Epoch 1/30\n",
      "55000/55000 [==============================] - 143s 3ms/step - loss: 0.3391 - acc: 0.8888\n",
      "Epoch 2/30\n",
      "55000/55000 [==============================] - 148s 3ms/step - loss: 0.0945 - acc: 0.9705\n",
      "Epoch 3/30\n",
      "55000/55000 [==============================] - 147s 3ms/step - loss: 0.0701 - acc: 0.9787\n",
      "Epoch 4/30\n",
      "55000/55000 [==============================] - 142s 3ms/step - loss: 0.0600 - acc: 0.9819\n",
      "Epoch 5/30\n",
      "55000/55000 [==============================] - 141s 3ms/step - loss: 0.0520 - acc: 0.9839\n",
      "Epoch 6/30\n",
      "55000/55000 [==============================] - 141s 3ms/step - loss: 0.0497 - acc: 0.9841\n",
      "Epoch 7/30\n",
      "55000/55000 [==============================] - 138s 3ms/step - loss: 0.0426 - acc: 0.9873\n",
      "Epoch 8/30\n",
      "55000/55000 [==============================] - 128s 2ms/step - loss: 0.0442 - acc: 0.9868\n",
      "Epoch 9/30\n",
      "55000/55000 [==============================] - 135s 2ms/step - loss: 0.0422 - acc: 0.9870\n",
      "Epoch 10/30\n",
      "55000/55000 [==============================] - 132s 2ms/step - loss: 0.0394 - acc: 0.9882\n",
      "Epoch 11/30\n",
      "55000/55000 [==============================] - 136s 2ms/step - loss: 0.0390 - acc: 0.9879\n",
      "Epoch 12/30\n",
      "55000/55000 [==============================] - 138s 3ms/step - loss: 0.0386 - acc: 0.9885\n",
      "Epoch 13/30\n",
      "55000/55000 [==============================] - 137s 2ms/step - loss: 0.0378 - acc: 0.9893\n",
      "Epoch 14/30\n",
      "55000/55000 [==============================] - 133s 2ms/step - loss: 0.0372 - acc: 0.9887\n",
      "Epoch 15/30\n",
      "55000/55000 [==============================] - 144s 3ms/step - loss: 0.0386 - acc: 0.9886\n",
      "Epoch 16/30\n",
      "55000/55000 [==============================] - 139s 3ms/step - loss: 0.0383 - acc: 0.9889\n",
      "Epoch 17/30\n",
      "55000/55000 [==============================] - 130s 2ms/step - loss: 0.0352 - acc: 0.9895\n",
      "Epoch 18/30\n",
      "55000/55000 [==============================] - 131s 2ms/step - loss: 0.0378 - acc: 0.9896\n",
      "Epoch 19/30\n",
      "55000/55000 [==============================] - 130s 2ms/step - loss: 0.0403 - acc: 0.9896\n",
      "Epoch 20/30\n",
      "55000/55000 [==============================] - 130s 2ms/step - loss: 0.0399 - acc: 0.9888\n",
      "Epoch 21/30\n",
      "55000/55000 [==============================] - 129s 2ms/step - loss: 0.0381 - acc: 0.9889\n",
      "Epoch 22/30\n",
      "55000/55000 [==============================] - 129s 2ms/step - loss: 0.0418 - acc: 0.9892\n",
      "Epoch 23/30\n",
      "55000/55000 [==============================] - 130s 2ms/step - loss: 0.0419 - acc: 0.9887\n",
      "Epoch 24/30\n",
      "55000/55000 [==============================] - 131s 2ms/step - loss: 0.0414 - acc: 0.9891\n",
      "Epoch 25/30\n",
      "55000/55000 [==============================] - 131s 2ms/step - loss: 0.0432 - acc: 0.9885\n",
      "Epoch 26/30\n",
      "55000/55000 [==============================] - 130s 2ms/step - loss: 0.0435 - acc: 0.9884\n",
      "Epoch 27/30\n",
      "55000/55000 [==============================] - 129s 2ms/step - loss: 0.0463 - acc: 0.9877\n",
      "Epoch 28/30\n",
      "55000/55000 [==============================] - 128s 2ms/step - loss: 0.0448 - acc: 0.9886\n",
      "Epoch 29/30\n",
      "55000/55000 [==============================] - 129s 2ms/step - loss: 0.0441 - acc: 0.9881\n",
      "Epoch 30/30\n",
      "55000/55000 [==============================] - 129s 2ms/step - loss: 0.0440 - acc: 0.9878\n",
      "running time:4037.69\n"
     ]
    }
   ],
   "source": [
    "model.compile(optimizer=RMSprop(lr=0.001,rho=0.9),loss=\"categorical_crossentropy\",\\\n",
    "             metrics=['accuracy'])\n",
    "import time\n",
    "start_time=time.time()\n",
    "model.fit(train_x,train_y,epochs=30,batch_size=128,verbose=1)\n",
    "end_time=time.time()\n",
    "print(\"running time:%.2f\"%(end_time-start_time))"
   ]
  },
  {
   "cell_type": "code",
   "execution_count": 49,
   "metadata": {},
   "outputs": [
    {
     "name": "stdout",
     "output_type": "stream",
     "text": [
      "10000/10000 [==============================] - 7s 681us/step\n",
      "model loss:0.0664 model accuracy:0.9911\n"
     ]
    }
   ],
   "source": [
    "evaluation=model.evaluate(test_x,test_y,batch_size=128,verbose=1)\n",
    "print(\"model loss:%.4f\"%(evaluation[0]),\"model accuracy:%.4f\"%(evaluation[1]))"
   ]
  },
  {
   "cell_type": "markdown",
   "metadata": {},
   "source": [
    "## Utility Methods to understand CNN\n",
    "+ source: https://github.com/fchollet/keras/issues/431\n",
    "+ source: https://github.com/philipperemy/keras-visualize-activations/blob/master/read_activations.py"
   ]
  },
  {
   "cell_type": "code",
   "execution_count": 50,
   "metadata": {},
   "outputs": [],
   "source": [
    "# https://github.com/fchollet/keras/issues/431\n",
    "def get_activations(model, model_inputs, print_shape_only=True, layer_name=None):\n",
    "    import keras.backend as K\n",
    "    print('----- activations -----')\n",
    "    activations = []\n",
    "    inp = model.input\n",
    "\n",
    "    model_multi_inputs_cond = True\n",
    "    if not isinstance(inp, list):\n",
    "        # only one input! let's wrap it in a list.\n",
    "        inp = [inp]\n",
    "        model_multi_inputs_cond = False\n",
    "\n",
    "    outputs = [layer.output for layer in model.layers if\n",
    "               layer.name == layer_name or layer_name is None]  # all layer outputs\n",
    "\n",
    "    funcs = [K.function(inp + [K.learning_phase()], [out]) for out in outputs]  # evaluation functions\n",
    "\n",
    "    if model_multi_inputs_cond:\n",
    "        list_inputs = []\n",
    "        list_inputs.extend(model_inputs)\n",
    "        list_inputs.append(1.)\n",
    "    else:\n",
    "        list_inputs = [model_inputs, 1.]\n",
    "\n",
    "    # Learning phase. 1 = Test mode (no dropout or batch normalization)\n",
    "    # layer_outputs = [func([model_inputs, 1.])[0] for func in funcs]\n",
    "    layer_outputs = [func(list_inputs)[0] for func in funcs]\n",
    "    for layer_activations in layer_outputs:\n",
    "        activations.append(layer_activations)\n",
    "        if print_shape_only:\n",
    "            print(layer_activations.shape)\n",
    "        else:\n",
    "            print(layer_activations)\n",
    "    return activations"
   ]
  },
  {
   "cell_type": "code",
   "execution_count": 51,
   "metadata": {},
   "outputs": [],
   "source": [
    "# https://github.com/philipperemy/keras-visualize-activations/blob/master/read_activations.py\n",
    "def display_activations(activation_maps):\n",
    "    import numpy as np\n",
    "    import matplotlib.pyplot as plt\n",
    "    \"\"\"\n",
    "    (1, 28, 28, 32)\n",
    "    (1, 14, 14, 32)\n",
    "    (1, 14, 14, 32)\n",
    "    (1, 14, 14, 64)\n",
    "    (1, 7, 7, 64)\n",
    "    (1, 7, 7, 64)\n",
    "    (1, 7, 7, 128)\n",
    "    (1, 3, 3, 128)\n",
    "    (1, 1152)\n",
    "    (1, 1152)\n",
    "    (1, 625)\n",
    "    (1, 625)\n",
    "    (1, 10)\n",
    "    \"\"\"\n",
    "    batch_size = activation_maps[0].shape[0]\n",
    "    assert batch_size == 1, 'One image at a time to visualize.'\n",
    "    for i, activation_map in enumerate(activation_maps):\n",
    "        print('Displaying activation map {}'.format(i))\n",
    "        shape = activation_map.shape\n",
    "        if len(shape) == 4:\n",
    "            activations = np.hstack(np.transpose(activation_map[0], (2, 0, 1)))\n",
    "        elif len(shape) == 2:\n",
    "            # try to make it square as much as possible. we can skip some activations.\n",
    "            activations = activation_map[0]\n",
    "            num_activations = len(activations)\n",
    "            if num_activations > 1024:  # too hard to display it on the screen.\n",
    "                square_param = int(np.floor(np.sqrt(num_activations)))\n",
    "                activations = activations[0: square_param * square_param]\n",
    "                activations = np.reshape(activations, (square_param, square_param))\n",
    "            else:\n",
    "                activations = np.expand_dims(activations, axis=0)\n",
    "        else:\n",
    "            raise Exception('len(shape) = 3 has not been implemented.')\n",
    "        #plt.imshow(activations, interpolation='None', cmap='binary')\n",
    "        fig, ax = plt.subplots(figsize=(18, 12))\n",
    "        ax.imshow(activations, interpolation='None', cmap='binary')\n",
    "        plt.show()"
   ]
  },
  {
   "cell_type": "code",
   "execution_count": 75,
   "metadata": {},
   "outputs": [
    {
     "name": "stdout",
     "output_type": "stream",
     "text": [
      "----- activations -----\n",
      "(1, 28, 28, 32)\n",
      "(1, 14, 14, 32)\n",
      "(1, 14, 14, 32)\n",
      "(1, 14, 14, 64)\n",
      "(1, 7, 7, 64)\n",
      "(1, 7, 7, 64)\n",
      "(1, 7, 7, 128)\n",
      "(1, 3, 3, 128)\n",
      "(1, 1152)\n",
      "(1, 1152)\n",
      "(1, 625)\n",
      "(1, 625)\n",
      "(1, 10)\n"
     ]
    }
   ],
   "source": [
    "###One image at a time to visualize.\n",
    "activations = get_activations(model, (test_x[0,:,:,:])[np.newaxis,:])"
   ]
  },
  {
   "cell_type": "code",
   "execution_count": 67,
   "metadata": {},
   "outputs": [
    {
     "data": {
      "text/plain": [
       "(1, 28, 28, 1)"
      ]
     },
     "execution_count": 67,
     "metadata": {},
     "output_type": "execute_result"
    }
   ],
   "source": [
    "(test_x[0,:,:,:])[np.newaxis,:].shape"
   ]
  },
  {
   "cell_type": "code",
   "execution_count": 76,
   "metadata": {},
   "outputs": [
    {
     "name": "stdout",
     "output_type": "stream",
     "text": [
      "Displaying activation map 0\n"
     ]
    },
    {
     "data": {
      "image/png": "[encoded data removed]",
      "text/plain": [
       "<matplotlib.figure.Figure at 0x1db0cc30978>"
      ]
     },
     "metadata": {},
     "output_type": "display_data"
    },
    {
     "name": "stdout",
     "output_type": "stream",
     "text": [
      "Displaying activation map 1\n"
     ]
    },
    {
     "data": {
      "image/png": "[encoded data removed]",
      "text/plain": [
       "<matplotlib.figure.Figure at 0x1db0a4b1b70>"
      ]
     },
     "metadata": {},
     "output_type": "display_data"
    },
    {
     "name": "stdout",
     "output_type": "stream",
     "text": [
      "Displaying activation map 2\n"
     ]
    },
    {
     "data": {
      "image/png": "[encoded data removed]",
      "text/plain": [
       "<matplotlib.figure.Figure at 0x1db0b867d68>"
      ]
     },
     "metadata": {},
     "output_type": "display_data"
    },
    {
     "name": "stdout",
     "output_type": "stream",
     "text": [
      "Displaying activation map 3\n"
     ]
    },
    {
     "data": {
      "image/png": "[encoded data removed]",
      "text/plain": [
       "<matplotlib.figure.Figure at 0x1db0b70b6d8>"
      ]
     },
     "metadata": {},
     "output_type": "display_data"
    },
    {
     "name": "stdout",
     "output_type": "stream",
     "text": [
      "Displaying activation map 4\n"
     ]
    },
    {
     "data": {
      "image/png": "[encoded data removed]",
      "text/plain": [
       "<matplotlib.figure.Figure at 0x1db0b6869e8>"
      ]
     },
     "metadata": {},
     "output_type": "display_data"
    },
    {
     "name": "stdout",
     "output_type": "stream",
     "text": [
      "Displaying activation map 5\n"
     ]
    },
    {
     "data": {
      "image/png": "[encoded data removed]",
      "text/plain": [
       "<matplotlib.figure.Figure at 0x1db0c91d390>"
      ]
     },
     "metadata": {},
     "output_type": "display_data"
    },
    {
     "name": "stdout",
     "output_type": "stream",
     "text": [
      "Displaying activation map 6\n"
     ]
    },
    {
     "data": {
      "image/png": "[encoded data removed]",
      "text/plain": [
       "<matplotlib.figure.Figure at 0x1db0dadb940>"
      ]
     },
     "metadata": {},
     "output_type": "display_data"
    },
    {
     "name": "stdout",
     "output_type": "stream",
     "text": [
      "Displaying activation map 7\n"
     ]
    },
    {
     "data": {
      "image/png": "[encoded data removed]",
      "text/plain": [
       "<matplotlib.figure.Figure at 0x1db0c914390>"
      ]
     },
     "metadata": {},
     "output_type": "display_data"
    },
    {
     "name": "stdout",
     "output_type": "stream",
     "text": [
      "Displaying activation map 8\n"
     ]
    },
    {
     "data": {
      "image/png": "[encoded data removed]",
      "text/plain": [
       "<matplotlib.figure.Figure at 0x1db0b8d0048>"
      ]
     },
     "metadata": {},
     "output_type": "display_data"
    },
    {
     "name": "stdout",
     "output_type": "stream",
     "text": [
      "Displaying activation map 9\n"
     ]
    },
    {
     "data": {
      "image/png": "[encoded data removed]",
      "text/plain": [
       "<matplotlib.figure.Figure at 0x1db0d302208>"
      ]
     },
     "metadata": {},
     "output_type": "display_data"
    },
    {
     "name": "stdout",
     "output_type": "stream",
     "text": [
      "Displaying activation map 10\n"
     ]
    },
    {
     "data": {
      "image/png": "[encoded data removed]",
      "text/plain": [
       "<matplotlib.figure.Figure at 0x1db0dfd5b70>"
      ]
     },
     "metadata": {},
     "output_type": "display_data"
    },
    {
     "name": "stdout",
     "output_type": "stream",
     "text": [
      "Displaying activation map 11\n"
     ]
    },
    {
     "data": {
      "image/png": "[encoded data removed]",
      "text/plain": [
       "<matplotlib.figure.Figure at 0x1db0db93438>"
      ]
     },
     "metadata": {},
     "output_type": "display_data"
    },
    {
     "name": "stdout",
     "output_type": "stream",
     "text": [
      "Displaying activation map 12\n"
     ]
    },
    {
     "data": {
      "image/png": "[encoded data removed]",
      "text/plain": [
       "<matplotlib.figure.Figure at 0x1db0b931470>"
      ]
     },
     "metadata": {},
     "output_type": "display_data"
    }
   ],
   "source": [
    "display_activations(activations)"
   ]
  },
  {
   "cell_type": "code",
   "execution_count": 77,
   "metadata": {},
   "outputs": [
    {
     "name": "stdout",
     "output_type": "stream",
     "text": [
      "[7]\n"
     ]
    },
    {
     "data": {
      "image/png": "[encoded data removed]",
      "text/plain": [
       "<matplotlib.figure.Figure at 0x1db0dc29cc0>"
      ]
     },
     "metadata": {},
     "output_type": "display_data"
    }
   ],
   "source": [
    "plt.imshow(test_x[0,:,:,0],cmap='gray')\n",
    "pred_value=model.predict_classes((test_x[0,:,:,:])[np.newaxis,:],batch_size=1)\n",
    "print(pred_value)"
   ]
  }
 ],
 "metadata": {
  "kernelspec": {
   "display_name": "Python 3",
   "language": "python",
   "name": "python3"
  },
  "language_info": {
   "codemirror_mode": {
    "name": "ipython",
    "version": 3
   },
   "file_extension": ".py",
   "mimetype": "text/x-python",
   "name": "python",
   "nbconvert_exporter": "python",
   "pygments_lexer": "ipython3",
   "version": "3.6.5"
  }
 },
 "nbformat": 4,
 "nbformat_minor": 2
}
