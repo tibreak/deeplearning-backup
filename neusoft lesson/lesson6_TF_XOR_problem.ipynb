{
 "cells": [
  {
   "cell_type": "markdown",
   "metadata": {},
   "source": [
    "## TensorFlow Basics for Development"
   ]
  },
  {
   "cell_type": "code",
   "execution_count": 29,
   "metadata": {},
   "outputs": [],
   "source": [
    "###定义tensor变量\n",
    "# -*- coding:utf-8 -*-\n",
    "import numpy as np\n",
    "import tensorflow as tf\n",
    "a=tf.zeros([2,2])\n",
    "b=tf.ones([2,2])"
   ]
  },
  {
   "cell_type": "markdown",
   "metadata": {},
   "source": [
    "## tensorflow定义的变量只有激活后才有值"
   ]
  },
  {
   "cell_type": "code",
   "execution_count": 30,
   "metadata": {},
   "outputs": [
    {
     "name": "stdout",
     "output_type": "stream",
     "text": [
      "Tensor(\"ones_3:0\", shape=(2, 2), dtype=float32)\n"
     ]
    }
   ],
   "source": [
    "print(b)"
   ]
  },
  {
   "cell_type": "code",
   "execution_count": 31,
   "metadata": {},
   "outputs": [
    {
     "name": "stdout",
     "output_type": "stream",
     "text": [
      "[[1. 1.]\n",
      " [1. 1.]]\n"
     ]
    }
   ],
   "source": [
    "###Session()来激活\n",
    "with tf.Session() as sess:\n",
    "    print(sess.run(b))"
   ]
  },
  {
   "cell_type": "code",
   "execution_count": 33,
   "metadata": {},
   "outputs": [
    {
     "name": "stdout",
     "output_type": "stream",
     "text": [
      "Tensor(\"Sum_1:0\", shape=(2,), dtype=float32)\n",
      "[2. 2.]\n"
     ]
    }
   ],
   "source": [
    "###对tensor内部元素求和\n",
    "with tf.Session() as sess:\n",
    "    print(tf.reduce_sum(b,axis=0))\n",
    "    print(sess.run(tf.reduce_sum(b,axis=0)))####axis=0表示横向 Vertical\n",
    "    print(sess.run(tf.reduce_sum(b,axis=1)))####axis=1表示纵向 Horizontal"
   ]
  },
  {
   "cell_type": "code",
   "execution_count": 34,
   "metadata": {},
   "outputs": [
    {
     "name": "stdout",
     "output_type": "stream",
     "text": [
      "(2, 2)\n"
     ]
    }
   ],
   "source": [
    "####求tensor的尺寸大小\n",
    "print(b.get_shape())"
   ]
  },
  {
   "cell_type": "code",
   "execution_count": 35,
   "metadata": {},
   "outputs": [
    {
     "name": "stdout",
     "output_type": "stream",
     "text": [
      "[[1. 1. 1. 1.]]\n"
     ]
    }
   ],
   "source": [
    "###Reshape a tensor\n",
    "with tf.Session() as sess:\n",
    "    b=tf.reshape(b,(1,-1))####注意理解这里-1的含义\n",
    "    print(sess.run(b))"
   ]
  },
  {
   "cell_type": "code",
   "execution_count": 40,
   "metadata": {},
   "outputs": [
    {
     "name": "stdout",
     "output_type": "stream",
     "text": [
      "Tensor(\"Const_16:0\", shape=(4,), dtype=int32) \n",
      " <tf.Variable 'Variable_86:0' shape=(1, 4) dtype=float32_ref> \n",
      " <tf.Variable 'Variable_87:0' shape=(1, 4) dtype=float32_ref>\n",
      "[1 2 3 4] \n",
      " [[-0.5594664 -1.2576094 -1.4333105 -1.5002048]] \n",
      " [[0. 0. 0. 0.]]\n"
     ]
    }
   ],
   "source": [
    "###定义tensorflow常量和变量\n",
    "c1=tf.constant([1,2,3,4])\n",
    "W=tf.Variable(tf.random_normal([1,4],-1,1),dtype=tf.float32)\n",
    "b=tf.Variable(tf.zeros([1,4]))\n",
    "init=tf.global_variables_initializer()\n",
    "with tf.Session() as sess:\n",
    "    sess.run(init)\n",
    "    print(c1,'\\n',W,'\\n',b)\n",
    "    print(sess.run(c1),'\\n',sess.run(W),'\\n',sess.run(b))"
   ]
  },
  {
   "cell_type": "markdown",
   "metadata": {},
   "source": [
    "# tensorflow computational operations(ops)\n",
    "## 注意tf.matmul(matrix multiply) 和 *  的区别"
   ]
  },
  {
   "cell_type": "code",
   "execution_count": 41,
   "metadata": {},
   "outputs": [
    {
     "name": "stdout",
     "output_type": "stream",
     "text": [
      "[4 6 6 4] \n",
      " [5 8 8 5] \n",
      " [[17 15]\n",
      " [13 15]]\n"
     ]
    }
   ],
   "source": [
    "c1=tf.constant([1,2,3,4])\n",
    "c2=tf.constant([4,3,2,1])\n",
    "d1=tf.constant([1,2,2,1])\n",
    "h1=tf.constant([[1,2,3,4],[4,3,2,1]])\n",
    "h2=tf.constant([[0,1],[2,1],[3,4],[1,0]])\n",
    "init=tf.global_variables_initializer()\n",
    "with tf.Session() as sess:\n",
    "    sess.run(init)\n",
    "    print(sess.run(c1*c2),'\\n',sess.run(c1*c2+d1),'\\n',sess.run(tf.matmul(h1,h2)))"
   ]
  },
  {
   "cell_type": "code",
   "execution_count": 42,
   "metadata": {},
   "outputs": [
    {
     "name": "stdout",
     "output_type": "stream",
     "text": [
      "[[0.97349846]\n",
      " [0.97349226]\n",
      " [0.0308611 ]\n",
      " [0.03088498]]\n"
     ]
    }
   ],
   "source": [
    "import numpy as np\n",
    "import tensorflow as tf\n",
    "x_=tf.placeholder(tf.float32,[None,2])\n",
    "y_=tf.placeholder(tf.float32,[None,1])\n",
    "\n",
    "W1=tf.Variable(tf.random_uniform([2,2]),dtype=tf.float32)\n",
    "b1=tf.Variable(tf.zeros([2]),dtype=tf.float32)\n",
    "output1=tf.sigmoid(tf.matmul(x_,W1)+b1)\n",
    "\n",
    "W2=tf.Variable(tf.random_uniform([2,1]),dtype=tf.float32)\n",
    "b2=tf.Variable(tf.zeros([1]),dtype=tf.float32)\n",
    "\n",
    "output2=tf.sigmoid(tf.matmul(output1,W2)+b2)\n",
    "\n",
    "loss=tf.reduce_mean((y_*tf.log(output2)+(1-y_)*tf.log(1-output2))*-1)\n",
    "\n",
    "optimizer=tf.train.GradientDescentOptimizer(0.01).minimize(loss)\n",
    "\n",
    "x=np.array([[1,0],[0,1],[0,0],[1,1]])\n",
    "y=np.array([[1],[1],[0],[0]])\n",
    "\n",
    "init=tf.global_variables_initializer()\n",
    "\n",
    "with tf.Session() as sess:\n",
    "    sess.run(init)\n",
    "    for i in range(100000):\n",
    "        sess.run(optimizer,feed_dict={x_:x,y_:y})\n",
    "        #sess.run(loss,feed_dict={x_:x,y_:y})\n",
    "    print(sess.run(output2,feed_dict={x_:x,y_:y}))"
   ]
  }
 ],
 "metadata": {
  "kernelspec": {
   "display_name": "Python 3",
   "language": "python",
   "name": "python3"
  },
  "language_info": {
   "codemirror_mode": {
    "name": "ipython",
    "version": 3
   },
   "file_extension": ".py",
   "mimetype": "text/x-python",
   "name": "python",
   "nbconvert_exporter": "python",
   "pygments_lexer": "ipython3",
   "version": "3.6.5"
  }
 },
 "nbformat": 4,
 "nbformat_minor": 2
}
