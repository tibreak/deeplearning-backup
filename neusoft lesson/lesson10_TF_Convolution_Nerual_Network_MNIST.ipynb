{
 "cells": [
  {
   "cell_type": "markdown",
   "metadata": {},
   "source": [
    "# 用tensorflow实现CNN中MNIST案例"
   ]
  },
  {
   "cell_type": "code",
   "execution_count": 1,
   "metadata": {},
   "outputs": [
    {
     "name": "stdout",
     "output_type": "stream",
     "text": [
      "Extracting ./MNIST_data\\train-images-idx3-ubyte.gz\n",
      "Extracting ./MNIST_data\\train-labels-idx1-ubyte.gz\n",
      "Extracting ./MNIST_data\\t10k-images-idx3-ubyte.gz\n",
      "Extracting ./MNIST_data\\t10k-labels-idx1-ubyte.gz\n"
     ]
    }
   ],
   "source": [
    "# -*-coding:\n",
    "####required libaraies\n",
    "import numpy as np\n",
    "import tensorflow as tf\n",
    "import time\n",
    "import matplotlib.pyplot as plt\n",
    "from tensorflow.examples.tutorials.mnist import input_data\n",
    "mnist=input_data.read_data_sets(\"./MNIST_data\",one_hot=True)\n",
    "\n",
    "########extract data#####\n",
    "train_X,train_Y,test_X,test_Y=mnist.train.images,mnist.train.labels,mnist.test.images,\\\n",
    "mnist.test.labels"
   ]
  },
  {
   "cell_type": "markdown",
   "metadata": {},
   "source": [
    "### 在TF中二维卷积和池化函数的定义"
   ]
  },
  {
   "cell_type": "code",
   "execution_count": 3,
   "metadata": {},
   "outputs": [],
   "source": [
    "%matplotlib inline\n",
    "############C O N V O L U T I O N # L A Y E R ##########\n",
    "def conv2d(x,w,b,stride=1):\n",
    "    x=tf.nn.conv2d(x,w,strides=[1,stride,stride,1],padding='SAME')\n",
    "    x=tf.add(x,b)\n",
    "    return tf.nn.relu(x)\n",
    "\n",
    "############P O O L I N G # L A Y E R ##########\n",
    "def maxpool2d(x,stride=2):\n",
    "    x=tf.nn.max_pool(x,ksize=[1,stride,stride,1],strides=[1,stride,stride,1],padding='SAME')\n",
    "    return x"
   ]
  },
  {
   "cell_type": "code",
   "execution_count": 4,
   "metadata": {},
   "outputs": [],
   "source": [
    "#####set values#####\n",
    "learning_rate=0.01\n",
    "batch_size=200\n",
    "num_batches=int(train_X.shape[0]/batch_size)###注意这里一定要加int，否则循环出错\n",
    "filter_width=5\n",
    "filter_height=5\n",
    "input_width=28\n",
    "input_height=28\n",
    "dropout=0.75\n",
    "epoches=20\n",
    "n_classes=10\n",
    "in_depth=1\n",
    "out_depth1=64\n",
    "out_depth2=128\n",
    "show_step=1"
   ]
  },
  {
   "cell_type": "markdown",
   "metadata": {},
   "source": [
    "## CNN架构是3个卷积层(连同池化层)，一个全连接层(FC layer)，后者就是Keras中的Dense Layer"
   ]
  },
  {
   "cell_type": "code",
   "execution_count": 5,
   "metadata": {},
   "outputs": [],
   "source": [
    "####variables and placeholders######\n",
    "x_=tf.placeholder(tf.float32,[None,28*28])\n",
    "y_=tf.placeholder(tf.float32,[None,n_classes])\n",
    "keep_prob=tf.placeholder(tf.float32)\n",
    "\n",
    "Weights={\n",
    "    \"wc1\":tf.Variable(tf.random_normal([filter_width,filter_height,in_depth,\\\n",
    "                                       out_depth1]),dtype=tf.float32),\n",
    "    \"wc2\":tf.Variable(tf.random_normal([filter_width,filter_height,out_depth1,\\\n",
    "                                       out_depth2]),dtype=tf.float32),\n",
    "    \"wd1\":tf.Variable(tf.random_normal([int(input_width*input_height/16*out_depth2),\\\n",
    "                                        1024]),dtype=tf.float32),\n",
    "    \"out\":tf.Variable(tf.random_normal([1024,n_classes]),dtype=tf.float32)   \n",
    "}\n",
    "\n",
    "biases={\n",
    "    \"bc1\":tf.Variable(tf.random_normal([out_depth1]),dtype=tf.float32),\n",
    "    \"bc2\":tf.Variable(tf.random_normal([out_depth2]),dtype=tf.float32),\n",
    "    \"bd1\":tf.Variable(tf.random_normal([1024]),dtype=tf.float32),\n",
    "    \"out\":tf.Variable(tf.random_normal([n_classes]),dtype=tf.float32),\n",
    "    \n",
    "}"
   ]
  },
  {
   "cell_type": "markdown",
   "metadata": {},
   "source": [
    "## 定义卷积神经网络架构=Keras里面的model..."
   ]
  },
  {
   "cell_type": "code",
   "execution_count": 6,
   "metadata": {},
   "outputs": [],
   "source": [
    "def conv_net(x,w,b,dropout):\n",
    "    x=tf.reshape(x,[-1,28,28,1])\n",
    "    \n",
    "    ####layer 1####\n",
    "    conv1=conv2d(x,w[\"wc1\"],b[\"bc1\"])\n",
    "    conv1=maxpool2d(conv1)\n",
    "    \n",
    "    ####layer 2#####\n",
    "    conv2=conv2d(conv1,w[\"wc2\"],b[\"bc2\"])\n",
    "    conv2=maxpool2d(conv2)\n",
    "    \n",
    "    #####fully connected layer####\n",
    "    fc1=tf.matmul(tf.reshape(conv2,[-1,w[\"wd1\"].get_shape().as_list()[0]]),w[\"wd1\"])\n",
    "    fc1=tf.add(fc1,b[\"bd1\"])\n",
    "    fc1=tf.nn.relu(fc1)\n",
    "    \n",
    "    #####apply dropout####\n",
    "    fc1=tf.nn.dropout(fc1,dropout)\n",
    "    \n",
    "    #####output#######\n",
    "    out=tf.add(tf.matmul(fc1,w[\"out\"]),b[\"out\"])\n",
    "    \n",
    "    return out"
   ]
  },
  {
   "cell_type": "code",
   "execution_count": 7,
   "metadata": {},
   "outputs": [
    {
     "name": "stdout",
     "output_type": "stream",
     "text": [
      "WARNING:tensorflow:From <ipython-input-7-4574533921c6>:3: softmax_cross_entropy_with_logits (from tensorflow.python.ops.nn_ops) is deprecated and will be removed in a future version.\n",
      "Instructions for updating:\n",
      "\n",
      "Future major versions of TensorFlow will allow gradients to flow\n",
      "into the labels input on backprop by default.\n",
      "\n",
      "See tf.nn.softmax_cross_entropy_with_logits_v2.\n",
      "\n"
     ]
    }
   ],
   "source": [
    "######setting ops#####\n",
    "pred=conv_net(x_,Weights,biases,keep_prob)\n",
    "cost=tf.reduce_mean(tf.nn.softmax_cross_entropy_with_logits(logits=pred,labels=y_))\n",
    "optimizer=tf.train.AdamOptimizer(learning_rate=learning_rate).minimize(cost)\n",
    "\n",
    "#####evaluate model#####\n",
    "correct_pred=tf.equal(tf.argmax(pred,1),tf.argmax(y_,1))\n",
    "accuracy=tf.reduce_mean(tf.cast(correct_pred,tf.float32))\n",
    "\n",
    "init=tf.global_variables_initializer()###尤其注意这句不能放的靠前\n",
    "start_time = time.time()"
   ]
  },
  {
   "cell_type": "code",
   "execution_count": null,
   "metadata": {},
   "outputs": [],
   "source": []
  }
 ],
 "metadata": {
  "kernelspec": {
   "display_name": "Python 3",
   "language": "python",
   "name": "python3"
  },
  "language_info": {
   "codemirror_mode": {
    "name": "ipython",
    "version": 3
   },
   "file_extension": ".py",
   "mimetype": "text/x-python",
   "name": "python",
   "nbconvert_exporter": "python",
   "pygments_lexer": "ipython3",
   "version": "3.6.3"
  }
 },
 "nbformat": 4,
 "nbformat_minor": 2
}
